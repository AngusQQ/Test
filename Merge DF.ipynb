{
 "cells": [
  {
   "cell_type": "code",
   "execution_count": 9,
   "metadata": {
    "collapsed": true
   },
   "outputs": [],
   "source": [
    "import pandas as pd\n",
    "\n",
    "df1 = pd.DataFrame({'HPI':[80,85,88,85],\n",
    "                    'Int_rate':[2, 3, 2, 2],\n",
    "                    'US_GDP_Thousands':[50, 55, 65, 55]},\n",
    "                   index = [2001, 2002, 2003, 2004])\n",
    "\n",
    "df2 = pd.DataFrame({'HPI':[80,85,88,85],\n",
    "                    'Int_rate':[2, 3, 2, 2],\n",
    "                    'US_GDP_Thousands':[50, 55, 65, 55]},\n",
    "                   index = [2005, 2006, 2007, 2008])\n",
    "\n",
    "df3 = pd.DataFrame({'HPI':[80,85,88,85],\n",
    "                    'Unemployment':[7, 8, 9, 6],\n",
    "                    'Low_tier_HPI':[50, 52, 50, 53]},\n",
    "                   index = [2001, 2002, 2003, 2005])"
   ]
  },
  {
   "cell_type": "code",
   "execution_count": 10,
   "metadata": {
    "collapsed": false
   },
   "outputs": [
    {
     "data": {
      "text/html": [
       "<div>\n",
       "<table border=\"1\" class=\"dataframe\">\n",
       "  <thead>\n",
       "    <tr style=\"text-align: right;\">\n",
       "      <th></th>\n",
       "      <th>HPI</th>\n",
       "      <th>Int_rate</th>\n",
       "      <th>US_GDP_Thousands</th>\n",
       "    </tr>\n",
       "  </thead>\n",
       "  <tbody>\n",
       "    <tr>\n",
       "      <th>2001</th>\n",
       "      <td>80</td>\n",
       "      <td>2</td>\n",
       "      <td>50</td>\n",
       "    </tr>\n",
       "    <tr>\n",
       "      <th>2002</th>\n",
       "      <td>85</td>\n",
       "      <td>3</td>\n",
       "      <td>55</td>\n",
       "    </tr>\n",
       "    <tr>\n",
       "      <th>2003</th>\n",
       "      <td>88</td>\n",
       "      <td>2</td>\n",
       "      <td>65</td>\n",
       "    </tr>\n",
       "    <tr>\n",
       "      <th>2004</th>\n",
       "      <td>85</td>\n",
       "      <td>2</td>\n",
       "      <td>55</td>\n",
       "    </tr>\n",
       "  </tbody>\n",
       "</table>\n",
       "</div>"
      ],
      "text/plain": [
       "      HPI  Int_rate  US_GDP_Thousands\n",
       "2001   80         2                50\n",
       "2002   85         3                55\n",
       "2003   88         2                65\n",
       "2004   85         2                55"
      ]
     },
     "execution_count": 10,
     "metadata": {},
     "output_type": "execute_result"
    }
   ],
   "source": [
    "df1"
   ]
  },
  {
   "cell_type": "code",
   "execution_count": 15,
   "metadata": {
    "collapsed": false
   },
   "outputs": [
    {
     "data": {
      "text/html": [
       "<div>\n",
       "<table border=\"1\" class=\"dataframe\">\n",
       "  <thead>\n",
       "    <tr style=\"text-align: right;\">\n",
       "      <th></th>\n",
       "      <th>HPI</th>\n",
       "      <th>Int_rate</th>\n",
       "      <th>US_GDP_Thousands</th>\n",
       "      <th>Low_tier_HPI</th>\n",
       "      <th>Unemployment</th>\n",
       "    </tr>\n",
       "  </thead>\n",
       "  <tbody>\n",
       "    <tr>\n",
       "      <th>0</th>\n",
       "      <td>80</td>\n",
       "      <td>2</td>\n",
       "      <td>50</td>\n",
       "      <td>50</td>\n",
       "      <td>7</td>\n",
       "    </tr>\n",
       "    <tr>\n",
       "      <th>1</th>\n",
       "      <td>85</td>\n",
       "      <td>3</td>\n",
       "      <td>55</td>\n",
       "      <td>52</td>\n",
       "      <td>8</td>\n",
       "    </tr>\n",
       "    <tr>\n",
       "      <th>2</th>\n",
       "      <td>85</td>\n",
       "      <td>3</td>\n",
       "      <td>55</td>\n",
       "      <td>53</td>\n",
       "      <td>6</td>\n",
       "    </tr>\n",
       "    <tr>\n",
       "      <th>3</th>\n",
       "      <td>85</td>\n",
       "      <td>2</td>\n",
       "      <td>55</td>\n",
       "      <td>52</td>\n",
       "      <td>8</td>\n",
       "    </tr>\n",
       "    <tr>\n",
       "      <th>4</th>\n",
       "      <td>85</td>\n",
       "      <td>2</td>\n",
       "      <td>55</td>\n",
       "      <td>53</td>\n",
       "      <td>6</td>\n",
       "    </tr>\n",
       "    <tr>\n",
       "      <th>5</th>\n",
       "      <td>88</td>\n",
       "      <td>2</td>\n",
       "      <td>65</td>\n",
       "      <td>50</td>\n",
       "      <td>9</td>\n",
       "    </tr>\n",
       "  </tbody>\n",
       "</table>\n",
       "</div>"
      ],
      "text/plain": [
       "   HPI  Int_rate  US_GDP_Thousands  Low_tier_HPI  Unemployment\n",
       "0   80         2                50            50             7\n",
       "1   85         3                55            52             8\n",
       "2   85         3                55            53             6\n",
       "3   85         2                55            52             8\n",
       "4   85         2                55            53             6\n",
       "5   88         2                65            50             9"
      ]
     },
     "execution_count": 15,
     "metadata": {},
     "output_type": "execute_result"
    }
   ],
   "source": [
    "pd.merge(df1,df3, on='HPI')"
   ]
  },
  {
   "cell_type": "code",
   "execution_count": 40,
   "metadata": {
    "collapsed": true
   },
   "outputs": [],
   "source": [
    "import pandas as pd\n",
    "import numpy as np\n",
    "\n",
    "web_stats = {'Day':[1,2,3,4,5,6],\n",
    "             'Visitors':[43,34,65,56,29,76],\n",
    "             'Bounce Rate':[65,67,78,65,45,52]}\n",
    "\n",
    "df = pd.DataFrame(web_stats)"
   ]
  },
  {
   "cell_type": "code",
   "execution_count": 46,
   "metadata": {
    "collapsed": false
   },
   "outputs": [
    {
     "data": {
      "text/plain": [
       "array([1, 2, 3, 4])"
      ]
     },
     "execution_count": 46,
     "metadata": {},
     "output_type": "execute_result"
    }
   ],
   "source": [
    "np.array([1,2,3,4])"
   ]
  },
  {
   "cell_type": "code",
   "execution_count": 49,
   "metadata": {
    "collapsed": false
   },
   "outputs": [
    {
     "data": {
      "text/plain": [
       "array([[43, 65],\n",
       "       [34, 67],\n",
       "       [65, 78],\n",
       "       [56, 65],\n",
       "       [29, 45],\n",
       "       [76, 52]])"
      ]
     },
     "execution_count": 49,
     "metadata": {},
     "output_type": "execute_result"
    }
   ],
   "source": [
    "np.array(df[['Visitors','Bounce Rate']])"
   ]
  },
  {
   "cell_type": "code",
   "execution_count": 72,
   "metadata": {
    "collapsed": false
   },
   "outputs": [],
   "source": [
    "ts = pd.Series(np.random.randn(1000), index=pd.date_range('1/1/2000', periods=1000))\n",
    "ts2 = pd.DataFrame(np.random.randn(1000), index=pd.date_range('1/1/2000', periods=1000))"
   ]
  },
  {
   "cell_type": "code",
   "execution_count": 76,
   "metadata": {
    "collapsed": false
   },
   "outputs": [
    {
     "data": {
      "text/plain": [
       "<matplotlib.axes._subplots.AxesSubplot at 0x116406be0>"
      ]
     },
     "execution_count": 76,
     "metadata": {},
     "output_type": "execute_result"
    },
    {
     "data": {
      "image/png": "[encoded data removed]",
      "text/plain": [
       "<matplotlib.figure.Figure at 0x116418f28>"
      ]
     },
     "metadata": {},
     "output_type": "display_data"
    }
   ],
   "source": [
    "%matplotlib inline\n",
    "ts2.cumsum().plot()"
   ]
  },
  {
   "cell_type": "code",
   "execution_count": 90,
   "metadata": {
    "collapsed": false
   },
   "outputs": [
    {
     "data": {
      "text/html": [
       "<div>\n",
       "<table border=\"1\" class=\"dataframe\">\n",
       "  <thead>\n",
       "    <tr style=\"text-align: right;\">\n",
       "      <th></th>\n",
       "      <th>A</th>\n",
       "      <th>B</th>\n",
       "      <th>C</th>\n",
       "    </tr>\n",
       "  </thead>\n",
       "  <tbody>\n",
       "    <tr>\n",
       "      <th>0</th>\n",
       "      <td>-0.664205</td>\n",
       "      <td>0.170805</td>\n",
       "      <td>-0.068215</td>\n",
       "    </tr>\n",
       "    <tr>\n",
       "      <th>1</th>\n",
       "      <td>-1.627150</td>\n",
       "      <td>0.081896</td>\n",
       "      <td>0.144700</td>\n",
       "    </tr>\n",
       "    <tr>\n",
       "      <th>2</th>\n",
       "      <td>-0.702804</td>\n",
       "      <td>1.305527</td>\n",
       "      <td>-0.056005</td>\n",
       "    </tr>\n",
       "    <tr>\n",
       "      <th>3</th>\n",
       "      <td>0.185286</td>\n",
       "      <td>-0.373536</td>\n",
       "      <td>-0.689382</td>\n",
       "    </tr>\n",
       "    <tr>\n",
       "      <th>4</th>\n",
       "      <td>-0.574707</td>\n",
       "      <td>-0.888893</td>\n",
       "      <td>-0.429541</td>\n",
       "    </tr>\n",
       "    <tr>\n",
       "      <th>5</th>\n",
       "      <td>-0.532490</td>\n",
       "      <td>0.066768</td>\n",
       "      <td>1.259189</td>\n",
       "    </tr>\n",
       "    <tr>\n",
       "      <th>6</th>\n",
       "      <td>-0.999003</td>\n",
       "      <td>1.769767</td>\n",
       "      <td>-0.205161</td>\n",
       "    </tr>\n",
       "    <tr>\n",
       "      <th>7</th>\n",
       "      <td>-0.702110</td>\n",
       "      <td>1.133854</td>\n",
       "      <td>0.501636</td>\n",
       "    </tr>\n",
       "    <tr>\n",
       "      <th>8</th>\n",
       "      <td>-1.946305</td>\n",
       "      <td>-0.613795</td>\n",
       "      <td>0.743912</td>\n",
       "    </tr>\n",
       "    <tr>\n",
       "      <th>9</th>\n",
       "      <td>-1.068889</td>\n",
       "      <td>-0.641027</td>\n",
       "      <td>0.362581</td>\n",
       "    </tr>\n",
       "    <tr>\n",
       "      <th>10</th>\n",
       "      <td>0.086846</td>\n",
       "      <td>1.274323</td>\n",
       "      <td>0.841072</td>\n",
       "    </tr>\n",
       "    <tr>\n",
       "      <th>11</th>\n",
       "      <td>-0.286754</td>\n",
       "      <td>1.358169</td>\n",
       "      <td>0.033535</td>\n",
       "    </tr>\n",
       "    <tr>\n",
       "      <th>12</th>\n",
       "      <td>2.533361</td>\n",
       "      <td>-1.363186</td>\n",
       "      <td>0.331824</td>\n",
       "    </tr>\n",
       "    <tr>\n",
       "      <th>13</th>\n",
       "      <td>0.914930</td>\n",
       "      <td>-2.006829</td>\n",
       "      <td>0.556462</td>\n",
       "    </tr>\n",
       "    <tr>\n",
       "      <th>14</th>\n",
       "      <td>-0.747707</td>\n",
       "      <td>0.738778</td>\n",
       "      <td>-1.485383</td>\n",
       "    </tr>\n",
       "    <tr>\n",
       "      <th>15</th>\n",
       "      <td>1.183810</td>\n",
       "      <td>-0.514301</td>\n",
       "      <td>1.129847</td>\n",
       "    </tr>\n",
       "    <tr>\n",
       "      <th>16</th>\n",
       "      <td>-1.524207</td>\n",
       "      <td>2.057460</td>\n",
       "      <td>0.208370</td>\n",
       "    </tr>\n",
       "    <tr>\n",
       "      <th>17</th>\n",
       "      <td>-0.980333</td>\n",
       "      <td>1.049761</td>\n",
       "      <td>0.008665</td>\n",
       "    </tr>\n",
       "    <tr>\n",
       "      <th>18</th>\n",
       "      <td>-0.459637</td>\n",
       "      <td>-0.841866</td>\n",
       "      <td>-1.275775</td>\n",
       "    </tr>\n",
       "    <tr>\n",
       "      <th>19</th>\n",
       "      <td>0.490083</td>\n",
       "      <td>0.882460</td>\n",
       "      <td>0.397529</td>\n",
       "    </tr>\n",
       "    <tr>\n",
       "      <th>20</th>\n",
       "      <td>0.369109</td>\n",
       "      <td>1.024955</td>\n",
       "      <td>-0.866073</td>\n",
       "    </tr>\n",
       "    <tr>\n",
       "      <th>21</th>\n",
       "      <td>1.447589</td>\n",
       "      <td>0.038489</td>\n",
       "      <td>-0.105671</td>\n",
       "    </tr>\n",
       "    <tr>\n",
       "      <th>22</th>\n",
       "      <td>-0.034664</td>\n",
       "      <td>2.138212</td>\n",
       "      <td>-0.710231</td>\n",
       "    </tr>\n",
       "    <tr>\n",
       "      <th>23</th>\n",
       "      <td>1.855915</td>\n",
       "      <td>-1.282314</td>\n",
       "      <td>0.827091</td>\n",
       "    </tr>\n",
       "    <tr>\n",
       "      <th>24</th>\n",
       "      <td>-0.015252</td>\n",
       "      <td>0.988245</td>\n",
       "      <td>1.152234</td>\n",
       "    </tr>\n",
       "    <tr>\n",
       "      <th>25</th>\n",
       "      <td>-1.963819</td>\n",
       "      <td>0.879023</td>\n",
       "      <td>0.239279</td>\n",
       "    </tr>\n",
       "    <tr>\n",
       "      <th>26</th>\n",
       "      <td>-0.541742</td>\n",
       "      <td>-1.122172</td>\n",
       "      <td>0.910948</td>\n",
       "    </tr>\n",
       "    <tr>\n",
       "      <th>27</th>\n",
       "      <td>-0.536650</td>\n",
       "      <td>-0.960932</td>\n",
       "      <td>0.495676</td>\n",
       "    </tr>\n",
       "    <tr>\n",
       "      <th>28</th>\n",
       "      <td>1.269016</td>\n",
       "      <td>0.073981</td>\n",
       "      <td>-0.093332</td>\n",
       "    </tr>\n",
       "    <tr>\n",
       "      <th>29</th>\n",
       "      <td>1.916173</td>\n",
       "      <td>-0.816269</td>\n",
       "      <td>-0.733811</td>\n",
       "    </tr>\n",
       "    <tr>\n",
       "      <th>...</th>\n",
       "      <td>...</td>\n",
       "      <td>...</td>\n",
       "      <td>...</td>\n",
       "    </tr>\n",
       "    <tr>\n",
       "      <th>970</th>\n",
       "      <td>-0.357405</td>\n",
       "      <td>-0.701285</td>\n",
       "      <td>-0.911919</td>\n",
       "    </tr>\n",
       "    <tr>\n",
       "      <th>971</th>\n",
       "      <td>-1.336844</td>\n",
       "      <td>0.995281</td>\n",
       "      <td>-0.485371</td>\n",
       "    </tr>\n",
       "    <tr>\n",
       "      <th>972</th>\n",
       "      <td>-0.699630</td>\n",
       "      <td>-0.109089</td>\n",
       "      <td>0.207360</td>\n",
       "    </tr>\n",
       "    <tr>\n",
       "      <th>973</th>\n",
       "      <td>0.353290</td>\n",
       "      <td>-1.623164</td>\n",
       "      <td>-1.540394</td>\n",
       "    </tr>\n",
       "    <tr>\n",
       "      <th>974</th>\n",
       "      <td>-1.950777</td>\n",
       "      <td>0.429366</td>\n",
       "      <td>-0.596985</td>\n",
       "    </tr>\n",
       "    <tr>\n",
       "      <th>975</th>\n",
       "      <td>-0.310660</td>\n",
       "      <td>-0.165156</td>\n",
       "      <td>-1.356370</td>\n",
       "    </tr>\n",
       "    <tr>\n",
       "      <th>976</th>\n",
       "      <td>-2.033873</td>\n",
       "      <td>-1.378282</td>\n",
       "      <td>0.487592</td>\n",
       "    </tr>\n",
       "    <tr>\n",
       "      <th>977</th>\n",
       "      <td>-2.046509</td>\n",
       "      <td>-0.567155</td>\n",
       "      <td>-0.487465</td>\n",
       "    </tr>\n",
       "    <tr>\n",
       "      <th>978</th>\n",
       "      <td>-1.209842</td>\n",
       "      <td>0.100784</td>\n",
       "      <td>0.980950</td>\n",
       "    </tr>\n",
       "    <tr>\n",
       "      <th>979</th>\n",
       "      <td>-0.851011</td>\n",
       "      <td>-0.623931</td>\n",
       "      <td>-1.808756</td>\n",
       "    </tr>\n",
       "    <tr>\n",
       "      <th>980</th>\n",
       "      <td>0.965282</td>\n",
       "      <td>-1.307730</td>\n",
       "      <td>-0.699265</td>\n",
       "    </tr>\n",
       "    <tr>\n",
       "      <th>981</th>\n",
       "      <td>1.290533</td>\n",
       "      <td>-0.159961</td>\n",
       "      <td>1.084741</td>\n",
       "    </tr>\n",
       "    <tr>\n",
       "      <th>982</th>\n",
       "      <td>0.335792</td>\n",
       "      <td>1.106956</td>\n",
       "      <td>-1.573283</td>\n",
       "    </tr>\n",
       "    <tr>\n",
       "      <th>983</th>\n",
       "      <td>-0.698914</td>\n",
       "      <td>0.820803</td>\n",
       "      <td>-1.150656</td>\n",
       "    </tr>\n",
       "    <tr>\n",
       "      <th>984</th>\n",
       "      <td>-0.661256</td>\n",
       "      <td>-2.886878</td>\n",
       "      <td>1.752688</td>\n",
       "    </tr>\n",
       "    <tr>\n",
       "      <th>985</th>\n",
       "      <td>-1.464655</td>\n",
       "      <td>-0.894021</td>\n",
       "      <td>-0.210679</td>\n",
       "    </tr>\n",
       "    <tr>\n",
       "      <th>986</th>\n",
       "      <td>-1.197786</td>\n",
       "      <td>0.710710</td>\n",
       "      <td>0.305308</td>\n",
       "    </tr>\n",
       "    <tr>\n",
       "      <th>987</th>\n",
       "      <td>0.563736</td>\n",
       "      <td>-1.894548</td>\n",
       "      <td>0.910775</td>\n",
       "    </tr>\n",
       "    <tr>\n",
       "      <th>988</th>\n",
       "      <td>-0.734978</td>\n",
       "      <td>-0.253823</td>\n",
       "      <td>0.605203</td>\n",
       "    </tr>\n",
       "    <tr>\n",
       "      <th>989</th>\n",
       "      <td>-0.034789</td>\n",
       "      <td>0.636899</td>\n",
       "      <td>-0.232082</td>\n",
       "    </tr>\n",
       "    <tr>\n",
       "      <th>990</th>\n",
       "      <td>1.164750</td>\n",
       "      <td>-0.195405</td>\n",
       "      <td>-0.257049</td>\n",
       "    </tr>\n",
       "    <tr>\n",
       "      <th>991</th>\n",
       "      <td>-0.452612</td>\n",
       "      <td>0.827643</td>\n",
       "      <td>-0.737701</td>\n",
       "    </tr>\n",
       "    <tr>\n",
       "      <th>992</th>\n",
       "      <td>2.091671</td>\n",
       "      <td>1.101026</td>\n",
       "      <td>0.547995</td>\n",
       "    </tr>\n",
       "    <tr>\n",
       "      <th>993</th>\n",
       "      <td>0.215949</td>\n",
       "      <td>-0.967126</td>\n",
       "      <td>-0.487599</td>\n",
       "    </tr>\n",
       "    <tr>\n",
       "      <th>994</th>\n",
       "      <td>0.466454</td>\n",
       "      <td>-1.312811</td>\n",
       "      <td>0.085273</td>\n",
       "    </tr>\n",
       "    <tr>\n",
       "      <th>995</th>\n",
       "      <td>-0.154544</td>\n",
       "      <td>1.765301</td>\n",
       "      <td>-0.903709</td>\n",
       "    </tr>\n",
       "    <tr>\n",
       "      <th>996</th>\n",
       "      <td>0.268574</td>\n",
       "      <td>0.128858</td>\n",
       "      <td>-1.047937</td>\n",
       "    </tr>\n",
       "    <tr>\n",
       "      <th>997</th>\n",
       "      <td>1.474218</td>\n",
       "      <td>2.205713</td>\n",
       "      <td>1.513948</td>\n",
       "    </tr>\n",
       "    <tr>\n",
       "      <th>998</th>\n",
       "      <td>-0.337689</td>\n",
       "      <td>-1.404107</td>\n",
       "      <td>1.895608</td>\n",
       "    </tr>\n",
       "    <tr>\n",
       "      <th>999</th>\n",
       "      <td>-1.445754</td>\n",
       "      <td>-0.364126</td>\n",
       "      <td>0.339346</td>\n",
       "    </tr>\n",
       "  </tbody>\n",
       "</table>\n",
       "<p>1000 rows × 3 columns</p>\n",
       "</div>"
      ],
      "text/plain": [
       "            A         B         C\n",
       "0   -0.664205  0.170805 -0.068215\n",
       "1   -1.627150  0.081896  0.144700\n",
       "2   -0.702804  1.305527 -0.056005\n",
       "3    0.185286 -0.373536 -0.689382\n",
       "4   -0.574707 -0.888893 -0.429541\n",
       "5   -0.532490  0.066768  1.259189\n",
       "6   -0.999003  1.769767 -0.205161\n",
       "7   -0.702110  1.133854  0.501636\n",
       "8   -1.946305 -0.613795  0.743912\n",
       "9   -1.068889 -0.641027  0.362581\n",
       "10   0.086846  1.274323  0.841072\n",
       "11  -0.286754  1.358169  0.033535\n",
       "12   2.533361 -1.363186  0.331824\n",
       "13   0.914930 -2.006829  0.556462\n",
       "14  -0.747707  0.738778 -1.485383\n",
       "15   1.183810 -0.514301  1.129847\n",
       "16  -1.524207  2.057460  0.208370\n",
       "17  -0.980333  1.049761  0.008665\n",
       "18  -0.459637 -0.841866 -1.275775\n",
       "19   0.490083  0.882460  0.397529\n",
       "20   0.369109  1.024955 -0.866073\n",
       "21   1.447589  0.038489 -0.105671\n",
       "22  -0.034664  2.138212 -0.710231\n",
       "23   1.855915 -1.282314  0.827091\n",
       "24  -0.015252  0.988245  1.152234\n",
       "25  -1.963819  0.879023  0.239279\n",
       "26  -0.541742 -1.122172  0.910948\n",
       "27  -0.536650 -0.960932  0.495676\n",
       "28   1.269016  0.073981 -0.093332\n",
       "29   1.916173 -0.816269 -0.733811\n",
       "..        ...       ...       ...\n",
       "970 -0.357405 -0.701285 -0.911919\n",
       "971 -1.336844  0.995281 -0.485371\n",
       "972 -0.699630 -0.109089  0.207360\n",
       "973  0.353290 -1.623164 -1.540394\n",
       "974 -1.950777  0.429366 -0.596985\n",
       "975 -0.310660 -0.165156 -1.356370\n",
       "976 -2.033873 -1.378282  0.487592\n",
       "977 -2.046509 -0.567155 -0.487465\n",
       "978 -1.209842  0.100784  0.980950\n",
       "979 -0.851011 -0.623931 -1.808756\n",
       "980  0.965282 -1.307730 -0.699265\n",
       "981  1.290533 -0.159961  1.084741\n",
       "982  0.335792  1.106956 -1.573283\n",
       "983 -0.698914  0.820803 -1.150656\n",
       "984 -0.661256 -2.886878  1.752688\n",
       "985 -1.464655 -0.894021 -0.210679\n",
       "986 -1.197786  0.710710  0.305308\n",
       "987  0.563736 -1.894548  0.910775\n",
       "988 -0.734978 -0.253823  0.605203\n",
       "989 -0.034789  0.636899 -0.232082\n",
       "990  1.164750 -0.195405 -0.257049\n",
       "991 -0.452612  0.827643 -0.737701\n",
       "992  2.091671  1.101026  0.547995\n",
       "993  0.215949 -0.967126 -0.487599\n",
       "994  0.466454 -1.312811  0.085273\n",
       "995 -0.154544  1.765301 -0.903709\n",
       "996  0.268574  0.128858 -1.047937\n",
       "997  1.474218  2.205713  1.513948\n",
       "998 -0.337689 -1.404107  1.895608\n",
       "999 -1.445754 -0.364126  0.339346\n",
       "\n",
       "[1000 rows x 3 columns]"
      ]
     },
     "execution_count": 90,
     "metadata": {},
     "output_type": "execute_result"
    }
   ],
   "source": [
    "pd.DataFrame(np.random.randn(1000,3), columns = ['A','B','C'])"
   ]
  },
  {
   "cell_type": "code",
   "execution_count": 93,
   "metadata": {
    "collapsed": false
   },
   "outputs": [
    {
     "data": {
      "text/html": [
       "<div>\n",
       "<table border=\"1\" class=\"dataframe\">\n",
       "  <thead>\n",
       "    <tr style=\"text-align: right;\">\n",
       "      <th></th>\n",
       "      <th>A</th>\n",
       "      <th>B</th>\n",
       "      <th>C</th>\n",
       "    </tr>\n",
       "  </thead>\n",
       "  <tbody>\n",
       "    <tr>\n",
       "      <th>2010-01-01</th>\n",
       "      <td>0.109386</td>\n",
       "      <td>1.395491</td>\n",
       "      <td>-1.259040</td>\n",
       "    </tr>\n",
       "    <tr>\n",
       "      <th>2010-01-02</th>\n",
       "      <td>-0.089877</td>\n",
       "      <td>0.351483</td>\n",
       "      <td>-0.552304</td>\n",
       "    </tr>\n",
       "    <tr>\n",
       "      <th>2010-01-03</th>\n",
       "      <td>0.797164</td>\n",
       "      <td>0.666638</td>\n",
       "      <td>-0.312471</td>\n",
       "    </tr>\n",
       "    <tr>\n",
       "      <th>2010-01-04</th>\n",
       "      <td>-1.590766</td>\n",
       "      <td>-1.034289</td>\n",
       "      <td>-0.936185</td>\n",
       "    </tr>\n",
       "    <tr>\n",
       "      <th>2010-01-05</th>\n",
       "      <td>-0.067039</td>\n",
       "      <td>-0.632445</td>\n",
       "      <td>0.127036</td>\n",
       "    </tr>\n",
       "  </tbody>\n",
       "</table>\n",
       "</div>"
      ],
      "text/plain": [
       "                   A         B         C\n",
       "2010-01-01  0.109386  1.395491 -1.259040\n",
       "2010-01-02 -0.089877  0.351483 -0.552304\n",
       "2010-01-03  0.797164  0.666638 -0.312471\n",
       "2010-01-04 -1.590766 -1.034289 -0.936185\n",
       "2010-01-05 -0.067039 -0.632445  0.127036"
      ]
     },
     "execution_count": 93,
     "metadata": {},
     "output_type": "execute_result"
    }
   ],
   "source": [
    "#generate random timelist\n",
    "\n",
    "sample_data = pd.DataFrame(data = np.random.randn(1000,3), \n",
    "             index = pd.date_range('2010-01-01', periods = 1000),\n",
    "             columns = list('ABC')\n",
    "            )\n",
    "sample_data.head()"
   ]
  },
  {
   "cell_type": "code",
   "execution_count": 96,
   "metadata": {
    "collapsed": false
   },
   "outputs": [
    {
     "data": {
      "text/html": [
       "<div>\n",
       "<table border=\"1\" class=\"dataframe\">\n",
       "  <thead>\n",
       "    <tr style=\"text-align: right;\">\n",
       "      <th></th>\n",
       "      <th>A</th>\n",
       "      <th>B</th>\n",
       "      <th>C</th>\n",
       "    </tr>\n",
       "  </thead>\n",
       "  <tbody>\n",
       "    <tr>\n",
       "      <th>2010-01-01</th>\n",
       "      <td>0.109386</td>\n",
       "      <td>1.395491</td>\n",
       "      <td>-1.259040</td>\n",
       "    </tr>\n",
       "    <tr>\n",
       "      <th>2010-01-02</th>\n",
       "      <td>0.019509</td>\n",
       "      <td>1.746974</td>\n",
       "      <td>-1.811344</td>\n",
       "    </tr>\n",
       "    <tr>\n",
       "      <th>2010-01-03</th>\n",
       "      <td>0.816673</td>\n",
       "      <td>2.413612</td>\n",
       "      <td>-2.123815</td>\n",
       "    </tr>\n",
       "    <tr>\n",
       "      <th>2010-01-04</th>\n",
       "      <td>-0.774093</td>\n",
       "      <td>1.379323</td>\n",
       "      <td>-3.059999</td>\n",
       "    </tr>\n",
       "    <tr>\n",
       "      <th>2010-01-05</th>\n",
       "      <td>-0.841132</td>\n",
       "      <td>0.746878</td>\n",
       "      <td>-2.932963</td>\n",
       "    </tr>\n",
       "  </tbody>\n",
       "</table>\n",
       "</div>"
      ],
      "text/plain": [
       "                   A         B         C\n",
       "2010-01-01  0.109386  1.395491 -1.259040\n",
       "2010-01-02  0.019509  1.746974 -1.811344\n",
       "2010-01-03  0.816673  2.413612 -2.123815\n",
       "2010-01-04 -0.774093  1.379323 -3.059999\n",
       "2010-01-05 -0.841132  0.746878 -2.932963"
      ]
     },
     "execution_count": 96,
     "metadata": {},
     "output_type": "execute_result"
    }
   ],
   "source": [
    "sample_data_cum = sample_data.cumsum()\n",
    "sample_data_cum.head()"
   ]
  },
  {
   "cell_type": "code",
   "execution_count": 97,
   "metadata": {
    "collapsed": false
   },
   "outputs": [
    {
     "data": {
      "text/plain": [
       "<matplotlib.axes._subplots.AxesSubplot at 0x1168c0208>"
      ]
     },
     "execution_count": 97,
     "metadata": {},
     "output_type": "execute_result"
    },
    {
     "data": {
      "image/png": "[encoded data removed]",
      "text/plain": [
       "<matplotlib.figure.Figure at 0x1168dd6d8>"
      ]
     },
     "metadata": {},
     "output_type": "display_data"
    }
   ],
   "source": [
    "sample_data_cum.plot()"
   ]
  },
  {
   "cell_type": "code",
   "execution_count": 127,
   "metadata": {
    "collapsed": false
   },
   "outputs": [
    {
     "data": {
      "image/png": "[encoded data removed]",
      "text/plain": [
       "<matplotlib.figure.Figure at 0x11f4ba9e8>"
      ]
     },
     "metadata": {},
     "output_type": "display_data"
    }
   ],
   "source": [
    "import seaborn as sns\n",
    "import matplotlib.pyplot as plt\n",
    "\n",
    "fig, (ax1, ax2, ax3) = plt.subplots(3,1, sharex = True, sharey = True)\n",
    "\n",
    "sns.set_style(\"darkgrid\")\n",
    "\n",
    "plots = {'A': ax1, 'B': ax2, 'C': ax3}\n",
    "\n",
    "for c, ax in plots.items():\n",
    "    sample_data_cum[c].plot(kind = 'line', title = 'Test Sample Walk', ax = ax)\n",
    "    ax.set_title('Sample Walk - ' + c)\n",
    "    ax.label_outer()\n",
    "\n",
    "fig.subplots_adjust(hspace=0)\n"
   ]
  },
  {
   "cell_type": "code",
   "execution_count": 125,
   "metadata": {
    "collapsed": false
   },
   "outputs": [
    {
     "ename": "TypeError",
     "evalue": "'AxesSubplot' object does not support indexing",
     "output_type": "error",
     "traceback": [
      "\u001b[0;31m---------------------------------------------------------------------------\u001b[0m",
      "\u001b[0;31mTypeError\u001b[0m                                 Traceback (most recent call last)",
      "\u001b[0;32m<ipython-input-125-27c997845db7>\u001b[0m in \u001b[0;36m<module>\u001b[0;34m()\u001b[0m\n\u001b[0;32m----> 1\u001b[0;31m \u001b[0max\u001b[0m\u001b[0;34m[\u001b[0m\u001b[0;36m1\u001b[0m\u001b[0;34m]\u001b[0m\u001b[0;34m.\u001b[0m\u001b[0mscatter\u001b[0m\u001b[0;34m(\u001b[0m\u001b[0mx\u001b[0m\u001b[0;34m=\u001b[0m \u001b[0msample_data_cum\u001b[0m\u001b[0;34m[\u001b[0m\u001b[0;34m'A'\u001b[0m\u001b[0;34m]\u001b[0m\u001b[0;34m,\u001b[0m \u001b[0my\u001b[0m \u001b[0;34m=\u001b[0m \u001b[0msample_data_cum\u001b[0m\u001b[0;34m.\u001b[0m\u001b[0mindex\u001b[0m \u001b[0;34m)\u001b[0m\u001b[0;34m\u001b[0m\u001b[0m\n\u001b[0m",
      "\u001b[0;31mTypeError\u001b[0m: 'AxesSubplot' object does not support indexing"
     ]
    }
   ],
   "source": [
    "ax[1].scatter(x= sample_data_cum['A'], y = sample_data_cum.index )"
   ]
  },
  {
   "cell_type": "code",
   "execution_count": null,
   "metadata": {
    "collapsed": true
   },
   "outputs": [],
   "source": []
  }
 ],
 "metadata": {
  "kernelspec": {
   "display_name": "Python 3",
   "language": "python",
   "name": "python3"
  },
  "language_info": {
   "codemirror_mode": {
    "name": "ipython",
    "version": 3
   },
   "file_extension": ".py",
   "mimetype": "text/x-python",
   "name": "python",
   "nbconvert_exporter": "python",
   "pygments_lexer": "ipython3",
   "version": "3.6.0"
  }
 },
 "nbformat": 4,
 "nbformat_minor": 2
}
